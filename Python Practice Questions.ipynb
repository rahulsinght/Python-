{
 "cells": [
  {
   "cell_type": "markdown",
   "metadata": {},
   "source": [
    "Question : 1. Write a function that inputs a number and prints the multiplication table of that number"
   ]
  },
  {
   "cell_type": "code",
   "execution_count": 1,
   "metadata": {},
   "outputs": [],
   "source": [
    "def mul_table(num):             #mul_table fun Created\n",
    "    for i in range(1,11):\n",
    "        print( num, 'X' , i ,'=' , num*i)\n",
    "        "
   ]
  },
  {
   "cell_type": "code",
   "execution_count": 2,
   "metadata": {
    "scrolled": true
   },
   "outputs": [
    {
     "name": "stdout",
     "output_type": "stream",
     "text": [
      "55\n",
      "55 X 1 = 55\n",
      "55 X 2 = 110\n",
      "55 X 3 = 165\n",
      "55 X 4 = 220\n",
      "55 X 5 = 275\n",
      "55 X 6 = 330\n",
      "55 X 7 = 385\n",
      "55 X 8 = 440\n",
      "55 X 9 = 495\n",
      "55 X 10 = 550\n"
     ]
    }
   ],
   "source": [
    "mul_table(num = int(input()))       # it will prints multiplication table of a num given by user "
   ]
  },
  {
   "cell_type": "markdown",
   "metadata": {},
   "source": [
    "Question : 2.2. Write a program to print twin primes less than 1000. If two consecutive odd numbers are\n",
    "both prime then they are known as twin primes\n"
   ]
  },
  {
   "cell_type": "code",
   "execution_count": 3,
   "metadata": {},
   "outputs": [
    {
     "name": "stdout",
     "output_type": "stream",
     "text": [
      "(3 , 5)\n",
      "(5 , 7)\n",
      "(11 , 13)\n",
      "(17 , 19)\n",
      "(29 , 31)\n",
      "(41 , 43)\n",
      "(59 , 61)\n",
      "(71 , 73)\n",
      "(101 , 103)\n",
      "(107 , 109)\n",
      "(137 , 139)\n",
      "(149 , 151)\n",
      "(179 , 181)\n",
      "(191 , 193)\n",
      "(197 , 199)\n",
      "(227 , 229)\n",
      "(239 , 241)\n",
      "(269 , 271)\n",
      "(281 , 283)\n",
      "(311 , 313)\n",
      "(347 , 349)\n",
      "(419 , 421)\n",
      "(431 , 433)\n",
      "(461 , 463)\n",
      "(521 , 523)\n",
      "(569 , 571)\n",
      "(599 , 601)\n",
      "(617 , 619)\n",
      "(641 , 643)\n",
      "(659 , 661)\n",
      "(809 , 811)\n",
      "(821 , 823)\n",
      "(827 , 829)\n",
      "(857 , 859)\n",
      "(881 , 883)\n"
     ]
    }
   ],
   "source": [
    "def Prime(num):                        #prime function takes the num in range, checks the numbs and return True for prime num\n",
    "    for i in range(2, num):\n",
    "        if num % i == 0:\n",
    "            return False\n",
    "            break\n",
    "    else:\n",
    "        return True\n",
    "        \n",
    "\n",
    "def generate_twins(first, last):        #This fun will prints twin primes\n",
    "    for i in range(first, last):\n",
    "        j = i + 2\n",
    "        if (Prime(i) and Prime(j)):\n",
    "            print(\"({:d} , {:d})\".format(i, j))\n",
    "\n",
    "            \n",
    "generate_twins(2 ,1000)                   #calling the Function "
   ]
  },
  {
   "cell_type": "markdown",
   "metadata": {},
   "source": [
    "3.Write a program to find out the prime factors of a number. Example: prime factors of 56 -2, 2, 2, 7"
   ]
  },
  {
   "cell_type": "code",
   "execution_count": 5,
   "metadata": {},
   "outputs": [
    {
     "name": "stdout",
     "output_type": "stream",
     "text": [
      " Please Enter any Number: 45\n",
      " 3 is prime factors of 45\n",
      " 5 is prime factors of 45\n"
     ]
    }
   ],
   "source": [
    "Number = int(input(\" Please Enter any Number: \"))        #Enter a number/int value by user\n",
    "\n",
    "for i in range(2, Number + 1):\n",
    "    if(Number % i == 0):\n",
    "        isprime = 1\n",
    "        for j in range(2, (i //2 + 1)):\n",
    "            if(i % j == 0):\n",
    "                isprime = 0\n",
    "                break\n",
    "            \n",
    "        if (isprime == 1):\n",
    "            print(\" %d is prime factors of %d\" %(i, Number))   #prints prime factors of a given number"
   ]
  },
  {
   "cell_type": "markdown",
   "metadata": {},
   "source": [
    "4.Write a program to implement these formulae of permutations and combinations.\n",
    "Number of permutations of n objects taken r at a time: p(n, r) = n! / (n-r)!. Number of\n",
    "combinations of n objects taken r at a time is: c(n, r) = n! / (r!*(n-r)!) = p(n,r) / r!"
   ]
  },
  {
   "cell_type": "code",
   "execution_count": 5,
   "metadata": {},
   "outputs": [
    {
     "name": "stdout",
     "output_type": "stream",
     "text": [
      "The value of n is 9\n",
      "The value of r is 6\n",
      "permutation of 9,6 is : 60480 \n",
      "Combinatation of 9,6 is : 84 \n"
     ]
    }
   ],
   "source": [
    "import math                               #importing math function\n",
    "\n",
    "n = int(input(\"The value of n is \"))\n",
    "r = int(input(\"The value of r is \"))\n",
    "\n",
    "p1 = math.factorial(n)/math.factorial(n-r)   # permutation formula \n",
    "print(\"permutation of %d,%d is : %d \" %(n,r,p1) )\n",
    "\n",
    "c1 =(1/math.factorial(r)) * (math.factorial(n)/math.factorial(n-r)) #combination formula\n",
    "print(\"Combinatation of %d,%d is : %d \" %(n,r,c1) )"
   ]
  },
  {
   "cell_type": "markdown",
   "metadata": {},
   "source": [
    "5.Write a function that converts a decimal number to binary number"
   ]
  },
  {
   "cell_type": "code",
   "execution_count": 6,
   "metadata": {},
   "outputs": [
    {
     "name": "stdout",
     "output_type": "stream",
     "text": [
      "Enter a num to convert decimal to binary: 55\n",
      "10111"
     ]
    }
   ],
   "source": [
    "def dec2bin(num):     # crate a function\n",
    "    if num > 1:\n",
    "        dec2bin(num // 2)\n",
    "        print(num % 2 , end ='')      #prints binary num   \n",
    "        \n",
    "num = int(input(\"Enter a num to convert decimal to binary: \"))\n",
    "dec2bin(num)    #calling the function"
   ]
  },
  {
   "cell_type": "markdown",
   "metadata": {},
   "source": [
    "6.Write a function cubesum() that accepts an integer and returns the sum of the cubes of\n",
    "individual digits of that number. Use this function to make functions PrintArmstrong() and\n",
    "isArmstrong() to print Armstrong numbers and to find whether is an Armstrong number."
   ]
  },
  {
   "cell_type": "code",
   "execution_count": 1,
   "metadata": {},
   "outputs": [
    {
     "name": "stdout",
     "output_type": "stream",
     "text": [
      "407\n",
      "407\n"
     ]
    }
   ],
   "source": [
    "    def cubesum(num):       # create a cubesum func\n",
    "        sum=0\n",
    "        while(num!=0):      #while loop\n",
    "            i=num%10\n",
    "            sum+=(i**3)\n",
    "            num//=10\n",
    "        return sum          #returning the sum value\n",
    "        \n",
    "i = int(input())       \n",
    "print (cubesum(i))  \n",
    "\n",
    "\n",
    "y=cubesum(i) \n"
   ]
  },
  {
   "cell_type": "code",
   "execution_count": 2,
   "metadata": {},
   "outputs": [
    {
     "name": "stdout",
     "output_type": "stream",
     "text": [
      "True\n"
     ]
    }
   ],
   "source": [
    "def isArmstrong():    \n",
    "    i = int(input())\n",
    "    \n",
    "    def cubesum(num):   #using cubesum fun in isArmstrong fun (nested functions)\n",
    "        y=cubesum()\n",
    "if y==i:\n",
    "    print(\"True\" )\n",
    "else:\n",
    "    print(\"False\" )"
   ]
  },
  {
   "cell_type": "code",
   "execution_count": null,
   "metadata": {
    "scrolled": false
   },
   "outputs": [
    {
     "name": "stdout",
     "output_type": "stream",
     "text": [
      "0\n",
      "1\n",
      "153\n",
      "370\n",
      "371\n",
      "407\n"
     ]
    }
   ],
   "source": [
    "def PrintArmstrong(num):     #new function creates\n",
    "    i=0\n",
    "    while(num != 0):\n",
    "        if i == cubesum(i):\n",
    "            print(i)\n",
    "            i = i+1\n",
    "            num = num - 1\n",
    "        else:\n",
    "            i = i+1\n",
    "            num = num\n",
    "            \n",
    "print(PrintArmstrong(999))     #prints armstrong num list in given range"
   ]
  },
  {
   "cell_type": "markdown",
   "metadata": {},
   "source": [
    "7. Write a function prodDigits() that inputs a number and returns the product of digits of that\n",
    "number."
   ]
  },
  {
   "cell_type": "code",
   "execution_count": 1,
   "metadata": {},
   "outputs": [
    {
     "name": "stdout",
     "output_type": "stream",
     "text": [
      "86\n",
      "48\n"
     ]
    }
   ],
   "source": [
    "def prodDigits(n):\n",
    "    prod =1\n",
    "    while(n != 0):\n",
    "        prod *= (n%10)\n",
    "        n = n // 10\n",
    "    return prod                  #returning the value of products of digits of that num\n",
    "\n",
    "n = int(input())\n",
    "print (prodDigits(n))        #prints the product of digits of that number\n",
    "    "
   ]
  },
  {
   "cell_type": "markdown",
   "metadata": {},
   "source": [
    "8. If all digits of a number n are multiplied by each other repeating with the product, the one\n",
    "digit number obtained at last is called the multiplicative digital root of n. The number of\n",
    "times digits need to be multiplied to reach one digit is called the multiplicative\n",
    "persistance of n.\n",
    "Example: 86 -> 48 -> 32 -> 6 (MDR 6, MPersistence 3)\n",
    " 341 -> 12->2 (MDR 2, MPersistence 2)\n",
    "Using the function prodDigits() of previous exercise write functions MDR() and\n",
    "MPersistence() that input a number and return its multiplicative digital root and\n",
    "multiplicative persistence respectively"
   ]
  },
  {
   "cell_type": "code",
   "execution_count": 2,
   "metadata": {},
   "outputs": [
    {
     "name": "stdout",
     "output_type": "stream",
     "text": [
      "86\n",
      "MDR = 6\n"
     ]
    }
   ],
   "source": [
    "def MDR(n):             #create function that  mltiplicative digital root of number\n",
    "    a = prodDigits(n)   # prodDigits(n) can be stored into the value of \"a\"\n",
    "    if (a > 9):\n",
    "        MDR(a)\n",
    "    else:\n",
    "        print(\"MDR =\", a)\n",
    "        \n",
    "num = int(input())\n",
    "MDR(num)               #calling the MDR fun"
   ]
  },
  {
   "cell_type": "code",
   "execution_count": 3,
   "metadata": {},
   "outputs": [
    {
     "name": "stdout",
     "output_type": "stream",
     "text": [
      "86\n",
      "mper = 3\n"
     ]
    }
   ],
   "source": [
    "def mper(num):       #Create a fun that prints Mpersistence of a num\n",
    "    count=1\n",
    "    while(num > 9):\n",
    "        if prodDigits(num) >9:  #using prodDigits fun in mper fun\n",
    "            count += 1\n",
    "            num= prodDigits(num)\n",
    "        else:\n",
    "            break\n",
    "    return count\n",
    "\n",
    "n = int(input())\n",
    "print(\"mper =\",mper(num))   #prints mper value"
   ]
  },
  {
   "cell_type": "markdown",
   "metadata": {},
   "source": [
    "9.Write a function sumPdivisors() that finds the sum of proper divisors of a number. Proper\n",
    "divisors of a number are those numbers by which the number is divisible, except the\n",
    "number itself. For example proper divisors of 36 are 1, 2, 3, 4, 6, 9, 18"
   ]
  },
  {
   "cell_type": "code",
   "execution_count": 2,
   "metadata": {},
   "outputs": [
    {
     "name": "stdout",
     "output_type": "stream",
     "text": [
      "220\n",
      "1\n",
      "2\n",
      "4\n",
      "5\n",
      "10\n",
      "11\n",
      "20\n",
      "22\n",
      "44\n",
      "55\n",
      "110\n",
      "284\n"
     ]
    }
   ],
   "source": [
    "def sumpdiv(n):            \n",
    "    m=[0]                   #empty list\n",
    "    for i in range(1, n):\n",
    "        if(n % i ) == 0:\n",
    "            m.append(i)\n",
    "            print(i)        #prints proper divisors a num\n",
    "    return sum(m)\n",
    "\n",
    "            \n",
    "n = int(input())\n",
    "print(sumpdiv(n))\n"
   ]
  },
  {
   "cell_type": "markdown",
   "metadata": {},
   "source": [
    "10.A number is called perfect if the sum of proper divisors of that number is equal to the\n",
    "number. For example 28 is perfect number, since 1+2+4+7+14=28. Write a program to\n",
    "print all the perfect numbers in a given range"
   ]
  },
  {
   "cell_type": "code",
   "execution_count": 1,
   "metadata": {},
   "outputs": [
    {
     "name": "stdout",
     "output_type": "stream",
     "text": [
      "enter a lower number :2\n",
      "enter a upper number :9999\n",
      "6\n",
      "28\n",
      "496\n",
      "8128\n"
     ]
    }
   ],
   "source": [
    "lower = int(input(\"enter a lower number :\"))\n",
    "upper = int(input(\"enter a upper number :\"))\n",
    "for n in range(lower, upper+1):                 # n range between lower, upper values given by user\n",
    "    result = 0\n",
    "    for i in range(1, n):\n",
    "        if(n % i ) == 0:\n",
    "            result += i                      #result = result +i , result store the final solution \n",
    "    if n == result:                          #the value of n is completely equal to the value of result\n",
    "        print(result)"
   ]
  },
  {
   "cell_type": "markdown",
   "metadata": {},
   "source": [
    "11.Two different numbers are called amicable numbers if the sum of the proper divisors of\n",
    "each is equal to the other number. For example 220 and 284 are amicable numbers.\n",
    "Sum of proper divisors of 220 = 1+2+4+5+10+11+20+22+44+55+110 = 284\n",
    "Sum of proper divisors of 284 = 1+2+4+71+142 = 220\n",
    "Write a function to print pairs of amicable numbers in a range"
   ]
  },
  {
   "cell_type": "code",
   "execution_count": 1,
   "metadata": {},
   "outputs": [
    {
     "name": "stdout",
     "output_type": "stream",
     "text": [
      "{(1184, 1210), (220, 284), (5020, 5564), (6232, 6368), (2620, 2924)}\n"
     ]
    }
   ],
   "source": [
    "def sumpdiv(n):            #the fun is used to find the sum of proper divisors of a num\n",
    "    m=[0]\n",
    "    for i in range(1, n):\n",
    "        if(n % i ) == 0:\n",
    "            m.append(i)\n",
    "    return sum(m)\n",
    "\n",
    "def amicable_pair(number):    #it will prints the pairs of amicable num\n",
    "    result = []               #empty lists\n",
    "    for x in range(1,number+1):\n",
    "        y = sumpdiv(x)            #the value of sumpdiv(x) stores into y\n",
    "        if sumpdiv(y) == x and x != y:\n",
    "            result.append(tuple(sorted((x,y))))   #append will used to add the values into the tuple \n",
    "    return set(result)\n",
    "\n",
    "\n",
    "print(amicable_pair(10000))    #prints pairs of amicable in given range 'n'"
   ]
  },
  {
   "cell_type": "markdown",
   "metadata": {},
   "source": [
    "12.Write a program which can filter odd numbers in a list by using filter function"
   ]
  },
  {
   "cell_type": "code",
   "execution_count": 1,
   "metadata": {},
   "outputs": [
    {
     "name": "stdout",
     "output_type": "stream",
     "text": [
      "[1, 3, 5, 7, 9, 11, 13, 15, 17, 19, 21, 23, 25, 27, 29, 31, 33, 35, 37, 39, 41, 43, 45, 47, 49, 51, 53, 55, 57, 59, 61, 63, 65, 67, 69, 71, 73, 75, 77, 79, 81, 83, 85, 87, 89, 91, 93, 95, 97, 99]\n"
     ]
    }
   ],
   "source": [
    "def is_odd(n):   #fun will heps to find odd num in the list\n",
    "    return n%2!= 0\n",
    "\n",
    "\n",
    "a=range(1,100,1)     #range(lower value, upper value, step size )\n",
    "odds=list(filter(is_odd,a))  #filter odd value from the list\n",
    "print(odds)"
   ]
  },
  {
   "cell_type": "markdown",
   "metadata": {},
   "source": [
    "13. Write a program which can map() to make a list whose elements are cube of elements in\n",
    "a given list"
   ]
  },
  {
   "cell_type": "code",
   "execution_count": 3,
   "metadata": {},
   "outputs": [
    {
     "name": "stdout",
     "output_type": "stream",
     "text": [
      "[1, 8, 27, 64, 125, 216, 343, 512, 729, 1000, 1331, 1728, 2197, 2744, 3375, 4096, 4913, 5832, 6859, 8000, 9261, 10648, 12167, 13824, 15625, 17576, 19683, 21952, 24389, 27000, 29791, 32768, 35937, 39304, 42875, 46656, 50653, 54872, 59319, 64000, 68921, 74088, 79507, 85184, 91125, 97336, 103823, 110592, 117649, 125000, 132651, 140608, 148877, 157464, 166375, 175616, 185193, 195112, 205379, 216000, 226981, 238328, 250047, 262144, 274625, 287496, 300763, 314432, 328509, 343000, 357911, 373248, 389017, 405224, 421875, 438976, 456533, 474552, 493039, 512000, 531441, 551368, 571787, 592704, 614125, 636056, 658503, 681472, 704969, 729000, 753571, 778688, 804357, 830584, 857375, 884736, 912673, 941192, 970299]\n"
     ]
    }
   ],
   "source": [
    "def update(n):     # n**3 means = value (n)3\n",
    "    return n**3\n",
    "\n",
    "nums = [*range(1,100,1)]\n",
    "cubes = list(map(update, nums)) #map fun is to connect with nums list\n",
    "print(cubes)"
   ]
  },
  {
   "cell_type": "markdown",
   "metadata": {},
   "source": [
    "14. Write a program which can map() and filter() to make a list whose elements are cube of\n",
    "even number in a given list"
   ]
  },
  {
   "cell_type": "code",
   "execution_count": 8,
   "metadata": {},
   "outputs": [
    {
     "name": "stdout",
     "output_type": "stream",
     "text": [
      "[8, 64, 216, 512, 1000, 1728, 2744, 4096, 5832, 8000, 10648, 13824, 17576, 21952, 27000, 32768, 39304, 46656, 54872, 64000, 74088, 85184, 97336, 110592, 125000, 140608, 157464, 175616, 195112, 216000, 238328, 262144, 287496, 314432, 343000, 373248, 405224, 438976, 474552, 512000, 551368, 592704, 636056, 681472, 729000, 778688, 830584, 884736, 941192]\n"
     ]
    }
   ],
   "source": [
    "def is_even(n):   #fun is used to filter/seperate even value form list\n",
    "    return (n%2)== 0\n",
    "\n",
    "def cube(n):      #fun is used to filter/seperate odd value form list\n",
    "    return n**3\n",
    "\n",
    "nums = [*range(1,100,1)]\n",
    "even_nums = list(filter(is_even,nums))   #used to filter even num from list and store into even_nums\n",
    "cubes = list(map(cube,even_nums))       #takes all the even num and make cubes of it and stores into cubes\n",
    "print(cubes)\n"
   ]
  },
  {
   "cell_type": "code",
   "execution_count": null,
   "metadata": {},
   "outputs": [],
   "source": []
  },
  {
   "cell_type": "code",
   "execution_count": null,
   "metadata": {},
   "outputs": [],
   "source": []
  },
  {
   "cell_type": "code",
   "execution_count": null,
   "metadata": {},
   "outputs": [],
   "source": []
  },
  {
   "cell_type": "code",
   "execution_count": null,
   "metadata": {},
   "outputs": [],
   "source": []
  },
  {
   "cell_type": "code",
   "execution_count": null,
   "metadata": {},
   "outputs": [],
   "source": []
  }
 ],
 "metadata": {
  "kernelspec": {
   "display_name": "Python 3",
   "language": "python",
   "name": "python3"
  },
  "language_info": {
   "codemirror_mode": {
    "name": "ipython",
    "version": 3
   },
   "file_extension": ".py",
   "mimetype": "text/x-python",
   "name": "python",
   "nbconvert_exporter": "python",
   "pygments_lexer": "ipython3",
   "version": "3.8.0"
  }
 },
 "nbformat": 4,
 "nbformat_minor": 2
}
