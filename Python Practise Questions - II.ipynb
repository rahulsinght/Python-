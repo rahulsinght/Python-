{
 "cells": [
  {
   "cell_type": "markdown",
   "metadata": {},
   "source": [
    "<h1>Python: without numpy or sklearn </h1>"
   ]
  },
  {
   "cell_type": "markdown",
   "metadata": {},
   "source": [
    "<h3> Q1: Given two matrices please print the product of those two matrices </h3>\n",
    "<pre>\n",
    "\n",
    "Ex 1: A   = [[1 3 4]\n",
    "             [2 5 7]\n",
    "             [5 9 6]]\n",
    "      B   = [[1 0 0]\n",
    "             [0 1 0]\n",
    "             [0 0 1]]\n",
    "      A*B = [[1 3 4]\n",
    "             [2 5 7]\n",
    "             [5 9 6]]\n",
    "\n",
    "     \n",
    "Ex 2: A   = [[1 2]\n",
    "             [3 4]]\n",
    "      B   = [[1 2 3 4 5]\n",
    "             [5 6 7 8 9]]\n",
    "      A*B = [[11 14 17 20 23]\n",
    "             [18 24 30 36 42]]\n",
    "             \n",
    "Ex 3: A   = [[1 2]\n",
    "             [3 4]]\n",
    "      B   = [[1 4]\n",
    "             [5 6]\n",
    "             [7 8]\n",
    "             [9 6]]\n",
    "      A*B =Not possible\n",
    "</pre>"
   ]
  },
  {
   "cell_type": "code",
   "execution_count": 4,
   "metadata": {},
   "outputs": [],
   "source": [
    "# write your python code here\n",
    "# you can take the above example as sample input for your program to test\n",
    "# it should work for any general input try not to hard code for only given input examples\n",
    "\n",
    "\n",
    "# you can free to change all these codes/structure\n",
    "# here A and B are list of lists\n",
    "\n",
    "\n",
    "def matrix_mul():            #creating matrix_mul function\n",
    "   \n",
    "    m = int(input(\"no of rows in matrix 1: \"))        #Taking input from the user to matrix_1\n",
    "    n = int(input(\"no of columns in matrix 1: \"))\n",
    "\n",
    "    mat1 = []                    #creating a list matrix_1\n",
    "\n",
    "    for i in range(0, m):\n",
    "        mat1.append([])          #appending the values to matrix_1\n",
    "    \n",
    "    print(\"                        \")\n",
    "    print(\"the values of mat1 are : \")  \n",
    "\n",
    "    for i in range(0, m):\n",
    "        for j in range(0, n):\n",
    "            mat1[i].append(j)\n",
    "            mat1[i][j] = 0\n",
    "            mat1[i][j] = int(input(\"the value of row \" + str(i+1) + \" col \" + str(j+1) + \"  : \"))  \n",
    "    print(mat1)\n",
    "    print(\"                        \")\n",
    "    print(\"                        \")        \n",
    "    print(\"                        \")       \n",
    "\n",
    "\n",
    "    p = int(input(\"no of rows in matrix 2 : \"))\n",
    "    q = int(input(\"no of columns in matrix 2 : \"))\n",
    "\n",
    "    mat2 = []                # creating a matrix_2\n",
    "\n",
    "    for i in range(0, p):\n",
    "        mat2.append([])\n",
    "    \n",
    "    print(\"                        \")\n",
    "    print(\"the values of mat2 are : \") \n",
    "\n",
    "    for i in range(0, p):\n",
    "        for j in range(0, q):\n",
    "            mat2[i].append(j)\n",
    "            mat2[i][j] = 0\n",
    "            mat2[i][j] = int(input(\"the value of row \" + str(i+1) + \" col \" + str(j+1) + \"  : \"))\n",
    "    print(mat2)\n",
    "    \n",
    "    \n",
    "\n",
    "    result = []             \n",
    "    for i in range(0, m):\n",
    "        result.append([])\n",
    "    for i in range(0, m):\n",
    "        for j in range(0, q):\n",
    "            result[i].append(j)\n",
    "            result[i][j] = 0\n",
    "            \n",
    "    \n",
    "\n",
    "    for i in range(len(mat1)):\n",
    "        for j in range(len(mat2[0])):\n",
    "            for k in range(len(mat2)):\n",
    "                if(len(mat1) != len(mat2)):\n",
    "                    print(\"matrix mul is not possible\")    \n",
    "                    return\n",
    "                else:\n",
    "                    result[i][j] += mat1[i][k] * mat2[k][j]   #matrix multiplication fromula \n",
    "                \n",
    "    return(result)  #returning the result \n",
    "            \n",
    "    \n",
    "            \n",
    "        \n"
   ]
  },
  {
   "cell_type": "code",
   "execution_count": 2,
   "metadata": {},
   "outputs": [
    {
     "name": "stdout",
     "output_type": "stream",
     "text": [
      "no of rows in matrix 1: 3\n",
      "no of columns in matrix 1: 3\n",
      "                        \n",
      "the values of mat1 are : \n",
      "the value of row 1 col 1  : 1\n",
      "the value of row 1 col 2  : 3\n",
      "the value of row 1 col 3  : 4\n",
      "the value of row 2 col 1  : 2\n",
      "the value of row 2 col 2  : 5\n",
      "the value of row 2 col 3  : 7\n",
      "the value of row 3 col 1  : 5\n",
      "the value of row 3 col 2  : 9\n",
      "the value of row 3 col 3  : 6\n",
      "[[1, 3, 4], [2, 5, 7], [5, 9, 6]]\n",
      "                        \n",
      "                        \n",
      "                        \n",
      "no of rows in matrix 2 : 3\n",
      "no of columns in matrix 2 : 3\n",
      "                        \n",
      "the values of mat2 are : \n",
      "the value of row 1 col 1  : 1\n",
      "the value of row 1 col 2  : 0\n",
      "the value of row 1 col 3  : 0\n",
      "the value of row 2 col 1  : 0\n",
      "the value of row 2 col 2  : 1\n",
      "the value of row 2 col 3  : 0\n",
      "the value of row 3 col 1  : 0\n",
      "the value of row 3 col 2  : 0\n",
      "the value of row 3 col 3  : 1\n",
      "[[1, 0, 0], [0, 1, 0], [0, 0, 1]]\n"
     ]
    },
    {
     "data": {
      "text/plain": [
       "[[1, 3, 4], [2, 5, 7], [5, 9, 6]]"
      ]
     },
     "execution_count": 2,
     "metadata": {},
     "output_type": "execute_result"
    }
   ],
   "source": [
    "matrix_mul()    #calling the matrix_mul function "
   ]
  },
  {
   "cell_type": "code",
   "execution_count": 12,
   "metadata": {},
   "outputs": [
    {
     "name": "stdout",
     "output_type": "stream",
     "text": [
      "no of rows in matrix 1: 2\n",
      "no of columns in matrix 1: 2\n",
      "                        \n",
      "the values of mat1 are : \n",
      "the value of row 1 col 1  : 1\n",
      "the value of row 1 col 2  : 2\n",
      "the value of row 2 col 1  : 3\n",
      "the value of row 2 col 2  : 4\n",
      "[[1, 2], [3, 4]]\n",
      "                        \n",
      "                        \n",
      "                        \n",
      "no of rows in matrix 2 : 2\n",
      "no of columns in matrix 2 : 5\n",
      "                        \n",
      "the values of mat2 are : \n",
      "the value of row 1 col 1  : 1\n",
      "the value of row 1 col 2  : 2\n",
      "the value of row 1 col 3  : 3\n",
      "the value of row 1 col 4  : 4\n",
      "the value of row 1 col 5  : 5\n",
      "the value of row 2 col 1  : 5\n",
      "the value of row 2 col 2  : 6\n",
      "the value of row 2 col 3  : 7\n",
      "the value of row 2 col 4  : 8\n",
      "the value of row 2 col 5  : 9\n",
      "[[1, 2, 3, 4, 5], [5, 6, 7, 8, 9]]\n"
     ]
    },
    {
     "data": {
      "text/plain": [
       "[[11, 14, 17, 20, 23], [23, 30, 37, 44, 51]]"
      ]
     },
     "execution_count": 12,
     "metadata": {},
     "output_type": "execute_result"
    }
   ],
   "source": [
    "matrix_mul()"
   ]
  },
  {
   "cell_type": "code",
   "execution_count": 5,
   "metadata": {},
   "outputs": [
    {
     "name": "stdout",
     "output_type": "stream",
     "text": [
      "no of rows in matrix 1: 2\n",
      "no of columns in matrix 1: 2\n",
      "                        \n",
      "the values of mat1 are : \n",
      "the value of row 1 col 1  : 1\n",
      "the value of row 1 col 2  : 2\n",
      "the value of row 2 col 1  : 3\n",
      "the value of row 2 col 2  : 4\n",
      "[[1, 2], [3, 4]]\n",
      "                        \n",
      "                        \n",
      "                        \n",
      "no of rows in matrix 2 : 4\n",
      "no of columns in matrix 2 : 2\n",
      "                        \n",
      "the values of mat2 are : \n",
      "the value of row 1 col 1  : 1\n",
      "the value of row 1 col 2  : 4\n",
      "the value of row 2 col 1  : 5\n",
      "the value of row 2 col 2  : 6\n",
      "the value of row 3 col 1  : 7\n",
      "the value of row 3 col 2  : 8\n",
      "the value of row 4 col 1  : 9\n",
      "the value of row 4 col 2  : 6\n",
      "[[1, 4], [5, 6], [7, 8], [9, 6]]\n",
      "matrix mul is not possible\n"
     ]
    }
   ],
   "source": [
    "matrix_mul()"
   ]
  },
  {
   "cell_type": "markdown",
   "metadata": {},
   "source": [
    "<h3> Q2: Select a number randomly with probability proportional to its magnitude from the given array of n elements</h3>\n",
    "\n",
    "consider an experiment, selecting an element from the list A randomly with probability proportional to its magnitude.\n",
    "assume we are doing the same experiment for 100 times with replacement, in each experiment you will print a number that is selected randomly from A.\n",
    "\n",
    "<pre>\n",
    "Ex 1: A = [0 5 27 6 13 28 100 45 10 79]\n",
    "let f(x) denote the number of times x getting selected in 100 experiments.\n",
    "f(100) > f(79) > f(45) > f(28) > f(27) > f(13) > f(10) > f(6) > f(5) > f(0)\n",
    "</pre>"
   ]
  },
  {
   "cell_type": "code",
   "execution_count": 44,
   "metadata": {},
   "outputs": [
    {
     "name": "stdout",
     "output_type": "stream",
     "text": [
      "45 79 100 100 100 27 79 45 100 79 45 27 27 27 79 79 13 28 45 79 45 79 28 100 100 28 79 79 28 100 45 100 79 100 79 100 79 100 79 79 100 79 79 6 79 79 100 100 27 13 100 100 45 5 100 100 27 10 45 100 13 100 28 79 79 28 79 100 79 6 100 100 100 100 100 10 45 79 28 79 79 100 100 79 28 100 28 45 79 100 79 45 100 79 27 100 79 45 100 "
     ]
    }
   ],
   "source": [
    "import random    \n",
    "from random import uniform\n",
    "#importing the random fun\n",
    "# write your python code here\n",
    "# you can take the above example as sample input for your program to test\n",
    "# it should work for any general input try not to hard code for only given input examples\n",
    "\n",
    "\n",
    "A = [0,5,27,6,13,28,100,45,10,79]\n",
    "\n",
    "# you can free to change all these codes/structure\n",
    "def pick_a_number_from_list(A):\n",
    "    # your code here for picking an element from with the probability propotional to its magnitude\n",
    "    val = 0\n",
    "    sum1 = sum(A)\n",
    "    prob = [round(i/sum1,4) for i in A]    #it will cheks the probability of a number in given range\n",
    "    \n",
    "    cd = []\n",
    "    c = 0\n",
    "    for i in range(len(prob)):\n",
    "        c += prob[i]\n",
    "        cd.append(c)            #appending the values to the list \"C\"\n",
    "        \n",
    "        \n",
    "    for i in range(len(A)):\n",
    "        rand = uniform(0,1)          #usinf uniform function \n",
    "        for j in range(len(A)):\n",
    "            if rand <= cd[j]:\n",
    "                return A[j]\n",
    "\n",
    "def sampling_based_on_magnitued():\n",
    "    for i in range(1,100):\n",
    "        number = pick_a_number_from_list(A)\n",
    "        print(number, end = \" \")     #print's the number\n",
    "\n",
    "sampling_based_on_magnitued()        #calling the function\n"
   ]
  },
  {
   "cell_type": "markdown",
   "metadata": {},
   "source": [
    "<h3> Q3: Replace the digits in the string with #</h3>\n",
    "\n",
    "Consider a string that will have digits in that, we need to remove all the characters which are not digits and replace the digits with #\n",
    "<pre>\n",
    "Ex 1: A = 234                Output: ###\n",
    "Ex 2: A = a2b3c4             Output: ###\n",
    "Ex 3: A = abc                Output:   (empty string)\n",
    "Ex 5: A = #2a$#b%c%561#      Output: ####\n",
    "</pre>"
   ]
  },
  {
   "cell_type": "code",
   "execution_count": 4,
   "metadata": {},
   "outputs": [
    {
     "name": "stdout",
     "output_type": "stream",
     "text": [
      "234\n"
     ]
    },
    {
     "data": {
      "text/plain": [
       "'###'"
      ]
     },
     "execution_count": 4,
     "metadata": {},
     "output_type": "execute_result"
    }
   ],
   "source": [
    "import re   #importing the regular expressions \n",
    "# write your python code here\n",
    "# you can take the above example as sample input for your program to test\n",
    "# it should work for any general input try not to hard code for only given input examples\n",
    "\n",
    "# you can free to change all these codes/structure\n",
    "# String: it will be the input to your program\n",
    "def replace_digits():\n",
    "    str = input()\n",
    "    x = re.sub(\"\\D\", \"\",str)   #\"\\D\" matches any charecter/word which present in the input\n",
    "    y = re.sub(\"\\d\",\"#\",x)     #\"\\d\" matches any decimal/num present in the input\n",
    "    return(y) # modified string which is after replacing the # with digits\n",
    "\n",
    "replace_digits()   #calling the fun"
   ]
  },
  {
   "cell_type": "code",
   "execution_count": 6,
   "metadata": {},
   "outputs": [
    {
     "name": "stdout",
     "output_type": "stream",
     "text": [
      "a2b3c4\n"
     ]
    },
    {
     "data": {
      "text/plain": [
       "'###'"
      ]
     },
     "execution_count": 6,
     "metadata": {},
     "output_type": "execute_result"
    }
   ],
   "source": [
    "replace_digits()"
   ]
  },
  {
   "cell_type": "code",
   "execution_count": 7,
   "metadata": {},
   "outputs": [
    {
     "name": "stdout",
     "output_type": "stream",
     "text": [
      "abc\n"
     ]
    },
    {
     "data": {
      "text/plain": [
       "''"
      ]
     },
     "execution_count": 7,
     "metadata": {},
     "output_type": "execute_result"
    }
   ],
   "source": [
    "replace_digits()"
   ]
  },
  {
   "cell_type": "code",
   "execution_count": 8,
   "metadata": {},
   "outputs": [
    {
     "name": "stdout",
     "output_type": "stream",
     "text": [
      "#2a$#b%c%561#\n"
     ]
    },
    {
     "data": {
      "text/plain": [
       "'####'"
      ]
     },
     "execution_count": 8,
     "metadata": {},
     "output_type": "execute_result"
    }
   ],
   "source": [
    "replace_digits()"
   ]
  },
  {
   "cell_type": "markdown",
   "metadata": {},
   "source": [
    "<h3> Q4: Students marks dashboard</h3>\n",
    "\n",
    "Consider the marks list of class students given in two lists <br>\n",
    "Students = ['student1','student2','student3','student4','student5','student6','student7','student8','student9','student10'] <br>\n",
    "Marks = [45, 78, 12, 14, 48, 43, 45, 98, 35, 80] <br>\n",
    "from the above two lists the Student[0] got Marks[0],  Student[1] got Marks[1] and so on. <br><br>\n",
    "\n",
    "Your task is to print the name of students\n",
    "\n",
    "<strong>a. Who got top 5 ranks, in the descending order of marks</strong> <br>\n",
    "<strong>b. Who got least 5 ranks, in the increasing order of marks</strong><br>\n",
    "<strong>d. Who got marks between  &gt;25th percentile &lt;75th percentile, in the increasing order of marks.</strong>\n",
    "\n",
    "<pre>\n",
    "Ex 1: \n",
    "Students=['student1','student2','student3','student4','student5','student6','student7','student8','student9','student10'] \n",
    "Marks = [45, 78, 12, 14, 48, 43, 47, 98, 35, 80]\n",
    "\n",
    "a. \n",
    "student8  98\n",
    "student10 80\n",
    "student2  78\n",
    "student5  48\n",
    "student7  47\n",
    "\n",
    "b.\n",
    "student3 12\n",
    "student4 14\n",
    "student9 35\n",
    "student6 43\n",
    "student1 45\n",
    "\n",
    "c.\n",
    "student9 35\n",
    "student6 43\n",
    "student1 45\n",
    "student7 47\n",
    "student5 48\n",
    "</pre>"
   ]
  },
  {
   "cell_type": "code",
   "execution_count": 58,
   "metadata": {},
   "outputs": [
    {
     "name": "stdout",
     "output_type": "stream",
     "text": [
      "display_dash_board values are : \n",
      "          \n",
      "student1 : 45\n",
      "student2 : 78\n",
      "student3 : 12\n",
      "student4 : 14\n",
      "student5 : 48\n",
      "student6 : 43\n",
      "student7 : 47\n",
      "student8 : 98\n",
      "student9 : 35\n",
      "student10 : 80\n",
      "          \n",
      "          \n",
      "Top 5 Students are :\n",
      "          \n",
      "student8: 98\n",
      "student10: 80\n",
      "student2: 78\n",
      "student5: 48\n",
      "student7: 47\n",
      "         \n",
      "         \n",
      "The least 5 Students are :\n",
      "          \n",
      "student3: 12\n",
      "student4: 14\n",
      "student9: 35\n",
      "student6: 43\n",
      "student1: 45\n",
      "        \n",
      "        \n",
      "students_within_25_and_75 percentile are :\n",
      "          \n"
     ]
    },
    {
     "data": {
      "text/plain": [
       "[('student9', 35),\n",
       " ('student6', 43),\n",
       " ('student1', 45),\n",
       " ('student7', 47),\n",
       " ('student5', 48)]"
      ]
     },
     "execution_count": 58,
     "metadata": {},
     "output_type": "execute_result"
    }
   ],
   "source": [
    "# write your python code here\n",
    "# you can take the above example as sample input for your program to test\n",
    "# it should work for any general input try not to hard code for only given input examples\n",
    "\n",
    "# you can free to change all these codes/structure\n",
    "\n",
    "\n",
    "def display_dash_board(students, marks):     #creating a Function of Students and marks\n",
    "    students=['student1','student2','student3','student4','student5','student6','student7','student8','student9','student10'] \n",
    "    marks = [45, 78, 12, 14, 48, 43, 47, 98, 35, 80]\n",
    "    list1 = dict(zip(students,marks))        #converting students,marks into dictionary list1\n",
    "    print(\"display_dash_board values are : \")\n",
    "    print(\"          \")\n",
    "    for key,values in list1.items():\n",
    "        print(key,\":\", values)      #printing key and values in a dictionary in list1\n",
    "    \n",
    "    print(\"          \")\n",
    "    print(\"          \")\n",
    "\n",
    "    # write code for computing top top 5 students\n",
    "    print(\"Top 5 Students are :\")   \n",
    "    print(\"          \")\n",
    "    for key, value in sorted(list1.items(), key=lambda item: item[1],reverse = True)[0:5]:  #sorting the dictionary top 5 values \n",
    "        top_5_students = (\"%s: %s\" % (key, value))   #stroing values into a list\n",
    "        print( top_5_students)    #prints top 5 students \n",
    "    \n",
    "    print(\"         \")\n",
    "    print(\"         \")\n",
    "    \n",
    "    # write code for computing top least 5 students\n",
    "    print(\"The least 5 Students are :\")\n",
    "    print(\"          \")\n",
    "    for key, value in sorted(list1.items(), key=lambda item: item[1])[0:5]:\n",
    "        least_5_students = (\"%s: %s\" % (key, value))\n",
    "        print(least_5_students)\n",
    "    \n",
    "    print(\"        \")\n",
    "    print(\"        \")\n",
    "\n",
    "    # write code for computing top least 5 students\n",
    "    print(\"students_within_25_and_75 percentile are :\")\n",
    "    print(\"          \")\n",
    "    for key, value in sorted(list1.items(), key=lambda item: item[1]):\n",
    "        n = len(marks)\n",
    "        per25 = int(n/4) if (n/4).is_integer() else int(n/4)     #caliculating the 25% of values\n",
    "        per75 = int(3*n/4)                                       #caliculating the 75% of values\n",
    "        num = sorted(list1.items(), key=lambda item:item[1]) [per25:per75]   #store the values between 25% and 75%\n",
    "        return num              #return the values\n",
    "\n",
    "   \n",
    "\n",
    "\n",
    "display_dash_board(students, marks)      #calling the function\n",
    "\n"
   ]
  },
  {
   "cell_type": "markdown",
   "metadata": {},
   "source": [
    "\n",
    "<h3> Q5: Find the closest points</h3>\n",
    "\n",
    "Consider you are given n data points in the form of list of tuples like S=[(x1,y1),(x2,y2),(x3,y3),(x4,y4),(x5,y5),..,(xn,yn)] and a point P=(p,q) <br> your task is to find 5 closest points(based on cosine distance) in S from P\n",
    "\n",
    "<br>Cosine distance between two points (x,y) and (p,q) is defined as $cos^{-1}(\\frac{(x\\cdot p+y\\cdot q)}{\\sqrt(x^2+y^2)\\cdot\\sqrt(p^2+q^2)})$\n",
    "<pre>\n",
    "Ex:\n",
    "\n",
    "S= [(1,2),(3,4),(-1,1),(6,-7),(0, 6),(-5,-8),(-1,-1)(6,0),(1,-1)]\n",
    "P= (3,-4)\n",
    "<img src='https://i.imgur.com/vIFPOcG.jpg', width=300>\n",
    "Output:\n",
    "(6,-7)\n",
    "(1,-1)\n",
    "(6,0)\n",
    "(-5,-8)\n",
    "(-1,-1)\n",
    "</pre>"
   ]
  },
  {
   "cell_type": "code",
   "execution_count": 21,
   "metadata": {},
   "outputs": [
    {
     "name": "stdout",
     "output_type": "stream",
     "text": [
      "(6, -7)\n",
      "(1, -1)\n",
      "(6, 0)\n",
      "(-5, -8)\n",
      "(-1, -1)\n"
     ]
    }
   ],
   "source": [
    "import math        #importing math library\n",
    "\n",
    "# write your python code here\n",
    "# you can take the above example as sample input for your program to test\n",
    "# it should work for any general input try not to hard code for only given input examples\n",
    "# you can free to change all these codes/structure\n",
    "\n",
    "\n",
    "# here S is list of tuples and P is a tuple ot len=2\n",
    "#list = []\n",
    "def closest_points_to_p():\n",
    "    list = []\n",
    "    for i in S:\n",
    "        for j in P:\n",
    "            a = ((i[0] * j[0]) + (i[1] * j[1]))\n",
    "            b = math.sqrt(i[0]**2 + i[1]**2)\n",
    "            c = math.sqrt(j[0]**2 + j[1]**2)\n",
    "            value = math.acos(a/(b*c))           #using cos inverse function \n",
    "            list.append(value)                   #appending/adding the values into list\n",
    "    cos_dis = dict(zip(S,list))\n",
    "    sorted_cos_dist = sorted(cos_dis.items(), key = lambda xy: (xy[1], xy[0]))[0:5]\n",
    "    for i in range(5):\n",
    "        print(sorted_cos_dist[i][0])\n",
    "\n",
    "\n",
    "\n",
    "S= [(1,2),(3,4),(-1,1),(6,-7),(0, 6),(-5,-8),(-1,-1),(6,0),(1,-1)]\n",
    "P= [(3,-4)]\n",
    "points = closest_points_to_p()\n"
   ]
  },
  {
   "cell_type": "markdown",
   "metadata": {},
   "source": [
    "<h3> Q6: Find which line separates oranges and apples</h3>\n",
    "\n",
    "Consider you are given two set of data points in the form of list of tuples like \n",
    "<pre>\n",
    "Red =[(R11,R12),(R21,R22),(R31,R32),(R41,R42),(R51,R52),..,(Rn1,Rn2)]\n",
    "Blue=[(B11,B12),(B21,B22),(B31,B32),(B41,B42),(B51,B52),..,(Bm1,Bm2)]\n",
    "</pre>\n",
    "and set of line equations(in the string format, i.e list of strings)\n",
    "<pre>\n",
    "Lines = [a1x+b1y+c1,a2x+b2y+c2,a3x+b3y+c3,a4x+b4y+c4,..,K lines]\n",
    "Note: You need to do string parsing here and get the coefficients of x,y and intercept.\n",
    "</pre>\n",
    "Your task here is to print \"YES\"/\"NO\" for each line given. You should print YES, if all the red points are one side of the line and blue points are on other side of the line, otherwise you should print NO.\n",
    "<pre>\n",
    "Ex:\n",
    "Red= [(1,1),(2,1),(4,2),(2,4), (-1,4)]\n",
    "Blue= [(-2,-1),(-1,-2),(-3,-2),(-3,-1),(1,-3)]\n",
    "Lines=[\"1x+1y+0\",\"1x-1y+0\",\"1x+0y-3\",\"0x+1y-0.5\"]\n",
    "<img src='https://i.imgur.com/DoQf7mE.jpg' width=400>\n",
    "Output:\n",
    "YES\n",
    "NO\n",
    "NO\n",
    "YES\n",
    "</pre>"
   ]
  },
  {
   "cell_type": "code",
   "execution_count": 63,
   "metadata": {
    "scrolled": true
   },
   "outputs": [
    {
     "name": "stdout",
     "output_type": "stream",
     "text": [
      "YES\n",
      "NO\n",
      "NO\n",
      "YES\n"
     ]
    }
   ],
   "source": [
    "import math\n",
    "import re \n",
    "# write your python code here\n",
    "# you can take the above example as sample input for your program to test\n",
    "# it should work for any general input try not to hard code for only given input strings\n",
    "\n",
    "\n",
    "# you can free to change all these codes/structure\n",
    "def i_am_the_one(red,blue,line):    #creating a fun\n",
    "    result = \"NO\"     \n",
    "    \n",
    "    a = float(re.split(\"x\",line)[0])\n",
    "    b = float(re.split(\"x\",(re.split(\"y\",line)[0]))[1])\n",
    "    c = float(re.split(\"y\",line)[-1])     #extracting  the values a,b,c from the given lines and stores the values\n",
    "    \n",
    "              \n",
    "              \n",
    "    red1 = []\n",
    "    blue1 = []\n",
    "    for x,y in red:                    #it will checks all the RED points at on side of line or not\n",
    "        red1.append(a* +b*y >= c)\n",
    "    for x,y in blue:\n",
    "        blue1.append(a*x + b*y >= c)   #it will checks all the BLUE points are at on side of a line or not\n",
    "              \n",
    "    if all(red1) and not all (blue1):\n",
    "              result = \"YES\"\n",
    "    \n",
    "    return result                       #returning the result\n",
    "\n",
    "Red= [(1,1),(2,1),(4,2),(2,4), (-1,4)]\n",
    "Blue= [(-2,-1),(-1,-2),(-3,-2),(-3,-1),(1,-3)]\n",
    "Lines=[\"1x+1y+0\",\"1x-1y+0\",\"1x+0y-3\",\"0x+1y-0.5\"]\n",
    "\n",
    "for i in Lines:\n",
    "    yes_or_no = i_am_the_one(Red, Blue, i)\n",
    "    print(yes_or_no) "
   ]
  },
  {
   "cell_type": "markdown",
   "metadata": {},
   "source": [
    "<h3> Q7: Filling the missing values in the specified format</h3>\n",
    "\n",
    "You will be given a string with digits and '\\_'(missing value) symbols you have to replace the '\\_' symbols as explained \n",
    "\n",
    "<pre>\n",
    "Ex 1: _, _, _, 24 ==> 24/4, 24/4, 24/4, 24/4 i.e we. have distributed the 24 equally to all 4 places <br>\n",
    "Ex 2: 40, _, _, _, 60 ==> (60+40)/5,(60+40)/5,(60+40)/5,(60+40)/5,(60+40)/5 ==> 20, 20, 20, 20, 20 i.e. the sum of (60+40) is distributed qually to all 5 places<br>\n",
    "Ex 3: 80, _, _, _, _  ==> 80/5,80/5,80/5,80/5,80/5 ==> 16, 16, 16, 16, 16 i.e. the 80 is distributed qually to all 5 missing values that are right to it<br>\n",
    "Ex 4: _, _, 30, _, _, _, 50, _, _  \n",
    "==> we will fill the missing values from left to right \n",
    "    a. first we will distribute the 30 to left two missing values (10, 10, 10, _, _, _, 50, _, _)\n",
    "    b. now distribute the sum (10+50) missing values in between (10, 10, 12, 12, 12, 12, 12, _, _) \n",
    "    c. now we will distribute 12 to right side missing values (10, 10, 12, 12, 12, 12, 4, 4, 4)\n",
    "</pre>\n",
    "for a given string with comma seprate values, which will have both missing values numbers like ex: \"_, _, x, _, _, _\"\n",
    "you need fill the missing values\n",
    "\n",
    "Q: your program reads a string like ex: \"_, _, x, _, _, _\" and returns the filled sequence\n",
    "\n",
    "Ex: \n",
    "<pre>\n",
    "Input1: \"_,_,_,24\"\n",
    "Output1: 6,6,6,6\n",
    "\n",
    "Input2: \"40,_,_,_,60\"\n",
    "Output2: 20,20,20,20,20\n",
    "\n",
    "Input3: \"80,_,_,_,_\"\n",
    "Output3: 16,16,16,16,16\n",
    "\n",
    "Input4: \"_,_,30,_,_,_,50,_,_\"\n",
    "Output4: 10,10,12,12,12,12,4,4,4\n",
    "</pre>\n",
    "\n"
   ]
  },
  {
   "cell_type": "code",
   "execution_count": 16,
   "metadata": {},
   "outputs": [
    {
     "name": "stdout",
     "output_type": "stream",
     "text": [
      "input :_,_,_,24\n"
     ]
    },
    {
     "data": {
      "text/plain": [
       "'6,6,6,6'"
      ]
     },
     "execution_count": 16,
     "metadata": {},
     "output_type": "execute_result"
    }
   ],
   "source": [
    "# write your python code here\n",
    "# you can take the above example as sample input for your program to test\n",
    "# it should work for any general input try not to hard code for only given input strings\n",
    "\n",
    "\n",
    "# you can free to change all these codes/structure\n",
    "import re             #importing regular expressions \n",
    "def curve_smoothing(S):\n",
    "    S = input(\"input :\")     #takes input from the user\n",
    "    pattern = '\\d+'\n",
    "    ls_num=re.findall(pattern, S)   # list of numeral present in string\n",
    "    pattern = '\\d+'\n",
    "    spaces = re.split(pattern, S)  # split string to seperate '_' spaces\n",
    "\n",
    "    if len(spaces[0])==0 and len(ls_num)==1:\n",
    "        Space_num=len(re.findall('_',  S))\n",
    "        sums=int(ls_num[0])\n",
    "        repl_int=round(sums/(Space_num+1))\n",
    "        S=re.sub(r'(\\d{2})(,_)', r'{}\\2'.format(str(repl_int)) , S, 1)\n",
    "        S=re.sub('_', str(repl_int),S, Space_num)\n",
    "        return S\n",
    "\n",
    "    elif len(spaces[0])==0 and len(ls_num)>1:\n",
    "        for i in range(1,len(spaces)):\n",
    "            if i==1:\n",
    "                Space_num=len(re.findall('_',  spaces[i]))\n",
    "                sums=int(ls_num[i-1])+int(ls_num[(i)])\n",
    "                repl_int=round(sums/(Space_num+2))\n",
    "                S=re.sub(str(ls_num[i-1]), str(repl_int),S)\n",
    "                S=re.sub('_', str(repl_int),S, Space_num)\n",
    "                S=re.sub(str(ls_num[i]), str(repl_int),S,1)\n",
    "                ls_num[i]=repl_int\n",
    "            elif i<len(ls_num):\n",
    "                Space_num=len(re.findall('_',  spaces[i]))\n",
    "                sums=int(ls_num[i-1])+int(ls_num[(i)])\n",
    "                repl_int=round(sums/(Space_num+2))\n",
    "                S=re.sub(r'(\\d{2})(,_)', r'{}\\2'.format(str(repl_int)) , S, 1)\n",
    "                S=re.sub('_', str(repl_int),S, Space_num)\n",
    "                S=re.sub(str(ls_num[i]), str(repl_int),S,1)\n",
    "                ls_num[i]=repl_int\n",
    "            elif len(spaces[-1])!=0:\n",
    "                Space_num=len(re.findall('_',  spaces[i]))\n",
    "                repl_int=round(ls_num[(i-1)]/(Space_num+1))\n",
    "                S=re.sub(r'(\\d{2})(,_)', r'{}\\2'.format(str(repl_int)) , S, 1)\n",
    "                S=re.sub('_', str(repl_int),S, Space_num)\n",
    "        return S\n",
    "\n",
    "\n",
    "    else:\n",
    "        for i in range(len(spaces)):\n",
    "            if i==0:\n",
    "                Space_num=len(re.findall('_',  spaces[i]))\n",
    "                sums=int(ls_num[(i)])\n",
    "                repl_int=round(sums/(Space_num+1))\n",
    "                S=re.sub(r'(\\d{2})(,_)', r'{}\\2'.format(str(repl_int)) , S, 1)\n",
    "                S=re.sub('_', str(repl_int),S, Space_num)\n",
    "                S=re.sub(str(ls_num[i]), str(repl_int),S, 1)\n",
    "                ls_num[i]=repl_int\n",
    "            elif i>=1 and i<len(ls_num):\n",
    "                Space_num=len(re.findall('_',  spaces[i]))\n",
    "                sums=int(ls_num[i-1])+int(ls_num[(i)])\n",
    "                repl_int=round(sums/(Space_num+2))\n",
    "                S=re.sub(r'(\\d{2})(,_)', r'{}\\2'.format(str(repl_int)) , S, 1)\n",
    "                S=re.sub('_', str(repl_int),S, Space_num)\n",
    "                S=re.sub(str(ls_num[i]), str(repl_int),S,1)\n",
    "                ls_num[i]=repl_int\n",
    "            elif len(spaces[-1])!=0:\n",
    "                Space_num=len(re.findall('_',  spaces[i]))\n",
    "                repl_int=round(ls_num[(i-1)]/(Space_num+1))\n",
    "                S=re.sub(r'(\\d{2})(,_)', r'{}\\2'.format(str(repl_int)) , S, 1)\n",
    "                S=re.sub('_', str(repl_int),S, Space_num)\n",
    "        return S        #returning the values \n",
    "\n",
    "\n",
    "curve_smoothing(string)  #calling the function"
   ]
  },
  {
   "cell_type": "code",
   "execution_count": 17,
   "metadata": {},
   "outputs": [
    {
     "name": "stdout",
     "output_type": "stream",
     "text": [
      "input :40,_,_,_,60\n"
     ]
    },
    {
     "data": {
      "text/plain": [
       "'20,20,20,20,20'"
      ]
     },
     "execution_count": 17,
     "metadata": {},
     "output_type": "execute_result"
    }
   ],
   "source": [
    "curve_smoothing(string)"
   ]
  },
  {
   "cell_type": "code",
   "execution_count": 18,
   "metadata": {},
   "outputs": [
    {
     "name": "stdout",
     "output_type": "stream",
     "text": [
      "input :80,_,_,_,_\n"
     ]
    },
    {
     "data": {
      "text/plain": [
       "'16,16,16,16,16'"
      ]
     },
     "execution_count": 18,
     "metadata": {},
     "output_type": "execute_result"
    }
   ],
   "source": [
    "curve_smoothing(string)"
   ]
  },
  {
   "cell_type": "code",
   "execution_count": 19,
   "metadata": {},
   "outputs": [
    {
     "name": "stdout",
     "output_type": "stream",
     "text": [
      "input :_,_,30,_,_,_,50,_,_\n"
     ]
    },
    {
     "data": {
      "text/plain": [
       "'10,10,12,12,12,12,4,4,4'"
      ]
     },
     "execution_count": 19,
     "metadata": {},
     "output_type": "execute_result"
    }
   ],
   "source": [
    "curve_smoothing(string)"
   ]
  },
  {
   "cell_type": "markdown",
   "metadata": {},
   "source": [
    "<h3> Q8: Find the probabilities</h3>\n",
    "\n",
    "You will be given a list of lists, each sublist will be of length 2 i.e. [[x,y],[p,q],[l,m]..[r,s]]\n",
    "consider its like a martrix of n rows and two columns\n",
    "1. The first column F will contain only 5 uniques values (F1, F2, F3, F4, F5)\n",
    "2. The second column S will contain only 3 uniques values (S1, S2, S3)\n",
    "<pre>\n",
    "your task is to find\n",
    "a. Probability of P(F=F1|S==S1), P(F=F1|S==S2), P(F=F1|S==S3)\n",
    "b. Probability of P(F=F2|S==S1), P(F=F2|S==S2), P(F=F2|S==S3)\n",
    "c. Probability of P(F=F3|S==S1), P(F=F3|S==S2), P(F=F3|S==S3)\n",
    "d. Probability of P(F=F4|S==S1), P(F=F4|S==S2), P(F=F4|S==S3)\n",
    "e. Probability of P(F=F5|S==S1), P(F=F5|S==S2), P(F=F5|S==S3)\n",
    "</pre>\n",
    "Ex:\n",
    "\n",
    "<pre>\n",
    "[[F1,S1],[F2,S2],[F3,S3],[F1,S2],[F2,S3],[F3,S2],[F2,S1],[F4,S1],[F4,S3],[F5,S1]]\n",
    "\n",
    "a. P(F=F1|S==S1)=1/4, P(F=F1|S==S2)=1/3, P(F=F1|S==S3)=0/3\n",
    "b. P(F=F2|S==S1)=1/4, P(F=F2|S==S2)=1/3, P(F=F2|S==S3)=1/3\n",
    "c. P(F=F3|S==S1)=0/4, P(F=F3|S==S2)=1/3, P(F=F3|S==S3)=1/3\n",
    "d. P(F=F4|S==S1)=1/4, P(F=F4|S==S2)=0/3, P(F=F4|S==S3)=1/3\n",
    "e. P(F=F5|S==S1)=1/4, P(F=F5|S==S2)=0/3, P(F=F5|S==S3)=0/3\n",
    "</pre>\n",
    "\n"
   ]
  },
  {
   "cell_type": "code",
   "execution_count": 36,
   "metadata": {},
   "outputs": [
    {
     "name": "stdout",
     "output_type": "stream",
     "text": [
      "P(F=F1|S==S1) = 1/4\n",
      "P(F=F1|S==S2) = 1/3\n",
      "P(F=F1|S==S3) = 0\n",
      "P(F=F2|S==S1) = 1/4\n",
      "P(F=F2|S==S2) = 1/3\n",
      "P(F=F2|S==S3) = 1/3\n",
      "P(F=F3|S==S1) = 0\n",
      "P(F=F3|S==S2) = 1/3\n",
      "P(F=F3|S==S3) = 1/3\n",
      "P(F=F4|S==S1) = 1/4\n",
      "P(F=F4|S==S2) = 0\n",
      "P(F=F4|S==S3) = 1/3\n",
      "P(F=F5|S==S1) = 1/4\n",
      "P(F=F5|S==S2) = 0\n",
      "P(F=F5|S==S3) = 0\n"
     ]
    }
   ],
   "source": [
    "# write your python code here\n",
    "# you can take the above example as sample input for your program to test\n",
    "# it should work for any general input try not to hard code for only given input strings\n",
    "\n",
    "\n",
    "A = [['F1','S1'],['F2','S2'],['F3','S3'],['F1','S2'],['F2','S3'],['F3','S2'],['F2','S1'],['F4','S1'],['F4','S3'],['F5','S1']]\n",
    "\n",
    "def compute_conditional_probabilites(F,S):\n",
    "    num=0\n",
    "    den=0\n",
    "    for i in range(len(A)):\n",
    "        if(A[i][1] == S):\n",
    "            den += 1\n",
    "            if(A[i][0] == F):\n",
    "                num +=1\n",
    "    print('P(F={}|S=={}) ='.format(F,S), Fraction(num,den))\n",
    "\n",
    "for k in ['F1', 'F2', 'F3', 'F4', 'F5']:    #the values are present in list F\n",
    "    for m in ['S1', 'S2', 'S3']:            #the values are present in list S\n",
    "        compute_conditional_probabilites(k,m)"
   ]
  },
  {
   "cell_type": "markdown",
   "metadata": {},
   "source": [
    "<h3> Q9: Operations on sentences </h3>\n",
    "\n",
    "You will be given two sentances S1, S2 your task is to find \n",
    "<pre>\n",
    "a. Number of common words between S1, S2\n",
    "b. Words in S1 but not in S2\n",
    "c. Words in S2 but not in S1\n",
    "</pre>\n",
    "\n",
    "Ex: \n",
    "<pre>\n",
    "S1= \"the first column F will contain only 5 unique values\"\n",
    "S2= \"the second column S will contain only 3 unique values\"\n",
    "Output:\n",
    "a. 7\n",
    "b. ['first','F','5']\n",
    "c. ['second','S','3']\n",
    "</pre>"
   ]
  },
  {
   "cell_type": "code",
   "execution_count": 6,
   "metadata": {},
   "outputs": [
    {
     "name": "stdout",
     "output_type": "stream",
     "text": [
      "\n",
      " a. 7 \n",
      " b. ['first', 'F', '5'] \n",
      " c. ['second', 'S', '3']\n"
     ]
    }
   ],
   "source": [
    "# write your python code here\n",
    "# you can take the above example as sample input for your program to test\n",
    "# it should work for any general input try not to hard code for only given input strings\n",
    "\n",
    "# you can free to change all these codes/structure\n",
    "def string_features(S1, S2):\n",
    "    words1 = S1.split()    #split the string into diff words and stored the words into list format\n",
    "    words2 = S2.split()\n",
    "    a = 0                 #counts the how many same words are present in two lists\n",
    "    for i in range(len(words1)):\n",
    "        for j in range(len(words2)):\n",
    "            if words1[i] == words2[j]:\n",
    "                a = a + 1\n",
    "    b = [word for word in words1 if word not in words2]  #prints the words which present in list1 but not present in list2\n",
    "    c = [word for word in words2 if word not in words1]  #prints the words which present in list2 but not present in list1\n",
    "    return a, b, c       #retun the values\n",
    "\n",
    "\n",
    "\n",
    "S1= \"the first column F will contain only 5 uniques values\"\n",
    "S2= \"the second column S will contain only 3 uniques values\"\n",
    "a,b,c = string_features(S1, S2)\n",
    "print('\\n',\"a.\",a,'\\n',\"b.\",b,'\\n',\"c.\",c)    #prints the values"
   ]
  },
  {
   "cell_type": "markdown",
   "metadata": {},
   "source": [
    "<h3> Q10: Error Function</h3>\n",
    "\n",
    "You will be given a list of lists, each sublist will be of length 2 i.e. [[x,y],[p,q],[l,m]..[r,s]]\n",
    "consider its like a martrix of n rows and two columns\n",
    "\n",
    "a. the first column Y will contain interger values <br>\n",
    "b. the second column $Y_{score}$ will be having float values <br>\n",
    "Your task is to find the value of $f(Y,Y_{score}) = -1*\\frac{1}{n}\\Sigma_{for each Y,Y_{score} pair}(Ylog10(Y_{score})+(1-Y)log10(1-Y_{score}))$ here n is the number of rows in the matrix\n",
    "<pre>\n",
    "Ex:\n",
    "[[1, 0.4], [0, 0.5], [0, 0.9], [0, 0.3], [0, 0.6], [1, 0.1], [1, 0.9], [1, 0.8]]\n",
    "output:\n",
    "0.44982\n",
    "</pre>\n",
    "$\\frac{-1}{8}\\cdot((1\\cdot log_{10}(0.4)+0\\cdot log_{10}(0.6))+(0\\cdot log_{10}(0.5)+1\\cdot log_{10}(0.5)) + ... + (1\\cdot log_{10}(0.8)+0\\cdot log_{10}(0.2)) )$"
   ]
  },
  {
   "cell_type": "code",
   "execution_count": 11,
   "metadata": {},
   "outputs": [
    {
     "name": "stdout",
     "output_type": "stream",
     "text": [
      "0.42430993457031635\n"
     ]
    }
   ],
   "source": [
    "# write your python code here\n",
    "# you can take the above example as sample input for your program to test\n",
    "# it should work for any general input try not to hard code for only given input strings\n",
    "\n",
    "\n",
    "# you can free to change all these codes/structure\n",
    "import math\n",
    "def compute_log_loss(A):    #creating a function\n",
    "    for i in range(len(A)):  #range will be length of a list = 8\n",
    "        sum = 0\n",
    "        n = len(A)\n",
    "        for i in range(len(A)):\n",
    "            sum += ((A[i][0] * math.log10(A[i][1])) + ((1 - A[i][0]) * math.log10(1 - A[i][1])))   #eqn given in the question \n",
    "            sum1 = (-1/n) * sum\n",
    "    print(sum1)     #prints the values\n",
    "       \n",
    "\n",
    "A = [[1, 0.4], [0, 0.5], [0, 0.9], [0, 0.3], [0, 0.6], [1, 0.1], [1, 0.9], [1, 0.8]]\n",
    "compute_log_loss(A)               #calling the functions\n"
   ]
  },
  {
   "cell_type": "markdown",
   "metadata": {},
   "source": [
    "..."
   ]
  },
  {
   "cell_type": "markdown",
   "metadata": {},
   "source": [
    "..."
   ]
  },
  {
   "cell_type": "markdown",
   "metadata": {},
   "source": [
    "..."
   ]
  },
  {
   "cell_type": "markdown",
   "metadata": {},
   "source": [
    "...."
   ]
  },
  {
   "cell_type": "code",
   "execution_count": null,
   "metadata": {},
   "outputs": [],
   "source": []
  },
  {
   "cell_type": "code",
   "execution_count": null,
   "metadata": {},
   "outputs": [],
   "source": []
  },
  {
   "cell_type": "code",
   "execution_count": null,
   "metadata": {},
   "outputs": [],
   "source": []
  },
  {
   "cell_type": "code",
   "execution_count": null,
   "metadata": {},
   "outputs": [],
   "source": []
  },
  {
   "cell_type": "code",
   "execution_count": null,
   "metadata": {},
   "outputs": [],
   "source": []
  },
  {
   "cell_type": "code",
   "execution_count": null,
   "metadata": {},
   "outputs": [],
   "source": []
  },
  {
   "cell_type": "code",
   "execution_count": null,
   "metadata": {},
   "outputs": [],
   "source": []
  }
 ],
 "metadata": {
  "kernelspec": {
   "display_name": "Python 3",
   "language": "python",
   "name": "python3"
  },
  "language_info": {
   "codemirror_mode": {
    "name": "ipython",
    "version": 3
   },
   "file_extension": ".py",
   "mimetype": "text/x-python",
   "name": "python",
   "nbconvert_exporter": "python",
   "pygments_lexer": "ipython3",
   "version": "3.8.3"
  }
 },
 "nbformat": 4,
 "nbformat_minor": 2
}
